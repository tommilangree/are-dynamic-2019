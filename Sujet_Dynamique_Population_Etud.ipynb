{
 "cells": [
  {
   "cell_type": "code",
   "execution_count": 20,
   "metadata": {},
   "outputs": [],
   "source": [
    "%matplotlib inline     \n",
    "# ^Sans animations\n",
    "# %matplotlib notebook \n",
    "# ^Avec animations\n",
    "import numpy as np\n",
    "import matplotlib.pyplot as plt\n",
    "from matplotlib import animation"
   ]
  },
  {
   "cell_type": "markdown",
   "metadata": {},
   "source": [
    "# Dynamique de population et Génétique"
   ]
  },
  {
   "cell_type": "markdown",
   "metadata": {},
   "source": [
    "*Sujet d'ARE Dynamic 2019*"
   ]
  },
  {
   "cell_type": "markdown",
   "metadata": {},
   "source": [
    "# 1. Modèle de Galton-Watson "
   ]
  },
  {
   "cell_type": "markdown",
   "metadata": {},
   "source": [
    "[Francis Galton](https://fr.wikipedia.org/wiki/Francis_Galton) (1822-1911) est un scientifique anglais touche-à-tout, ayant des contributions de l'anthropologie à la psychologie en passant par les statistiques. Il consacre une part importante de ses recherches à défendre la théorie de l'évolution de son cousin, Charles Darwin. Il est considéré comme l'un des fondateurs de la biométrie, il découvre l'identification par empreintes digitales, cependant il est aussi l'un des fondateurs de l'[eugénisme](https://fr.wikipedia.org/wiki/Eug%C3%A9nisme) et soutient des politiques publiques peu glorieuses. \n",
    "\n",
    "Au cours du XIXème siècle il s'intéresse à la disparition des patronymes. Pour ce faire, il introduit le [modèle de Galton-Watson](https://fr.wikipedia.org/wiki/Processus_de_Galton-Watson) permettant de modéliser la dynamique d'une population. Introduit une première fois en 1845 par [Irénée-Jules Bienaymé](https://fr.wikipedia.org/wiki/Ir%C3%A9n%C3%A9e-Jules_Bienaym%C3%A9).\n",
    "\n",
    "### Comment modéliser un tel phénomène ?\n",
    "\n",
    "Considérons un ensemble d'**individus** formant une **population**. Par soucis de simplicité nous faisons abstraction des modalités de reproduction, couple, genre, etc...  \n",
    "Chaque individu de la population est modélisé par une **variable** $X$ représentant sa capacité de reproduction, c'est-à-dire son nombre de descendants.  \n",
    "Chaque individu de la population peut avoir $k$ descendants avec probabilité $p_k$ : $\\mathbb{P}(X = k) = p_k$ avec $\\sum_k p_k =1$.  "
   ]
  },
  {
   "cell_type": "markdown",
   "metadata": {},
   "source": [
    "Commençons par modéliser un individu : la variable $X$."
   ]
  },
  {
   "cell_type": "code",
   "execution_count": 21,
   "metadata": {},
   "outputs": [],
   "source": [
    "# Dictionnaire représentant la distribution de probabilité des descendants.\n",
    "# clef = nombre de descendants et valeur = probabilité\n",
    "p = {0 : 0.4,\n",
    "     1 : 0.2,\n",
    "     2 : 0.3,\n",
    "     3 : 0.1}\n",
    "\n",
    "# Let's assert that this is a probalitiy distribution:\n",
    "np.testing.assert_almost_equal(sum(p.values()),1)"
   ]
  },
  {
   "cell_type": "code",
   "execution_count": 22,
   "metadata": {},
   "outputs": [],
   "source": [
    "def number_of_descendants(p):\n",
    "    '''\n",
    "    dict[int:float]->int\n",
    "    Étant donnée une distibution de probabilité 'p', la fonction retourne le nombre de descendants d'un individu.\n",
    "    '''\n",
    "    u = np.random.random()\n",
    "    s = 0\n",
    "    for k in p.keys():\n",
    "        s += p[k]\n",
    "        if u < s:\n",
    "            return k"
   ]
  },
  {
   "cell_type": "markdown",
   "metadata": {},
   "source": [
    "**Question 1.1 :** Remplacer la distribution $p$ par une distribution qui vous semble cohérente, puis tester cette fonction. (Par exemple, vous pourrez tirer un certain nombre de fois un nombre de descendants selon cette fonction, puis vérifier que la distribution observée est conforme.)"
   ]
  },
  {
   "cell_type": "code",
   "execution_count": 23,
   "metadata": {
    "scrolled": true
   },
   "outputs": [
    {
     "data": {
      "text/plain": [
       "0"
      ]
     },
     "execution_count": 23,
     "metadata": {},
     "output_type": "execute_result"
    }
   ],
   "source": [
    "number_of_descendants(p)"
   ]
  },
  {
   "cell_type": "markdown",
   "metadata": {},
   "source": [
    "Modélisons maintenant cette population et son évolution au fil des générations.  \n",
    "Soit $Z_n$ la population de la n-ème génération. $Z_{n+1} = \\sum_{i=1}^{Z_n}X$."
   ]
  },
  {
   "cell_type": "code",
   "execution_count": 24,
   "metadata": {},
   "outputs": [],
   "source": [
    "\n",
    "def update_population(Z,p):\n",
    "    '''\n",
    "    int*dict[int:float]->int\n",
    "    Étant donnés un nombre d'individus 'C' et une distibution de probabilité de descendants 'p',\n",
    "    la fonction retourne le nombre d'individus à la prochaine génération.\n",
    "    '''\n",
    "    Z_new = 0\n",
    "    for k in range(Z):\n",
    "        #sum up all the descendants over all the population Z\n",
    "        Z_new += number_of_descendants(p)\n",
    "    return Z_new\n"
   ]
  },
  {
   "cell_type": "markdown",
   "metadata": {},
   "source": [
    "**Question 1.2 :** Compléter la fonction \"population_n_generations\" ci-dessous qui, étant donné un nombre d'invidus de départ $Z_0$, une distribution de probabilité de descendants $p$ et un nombre de générations $n$, retourne une liste $L$ telle que $L[i]$ soit le nombre d'individus à la génération $i$ pour $i$ de $0$ à $n-1$."
   ]
  },
  {
   "cell_type": "code",
   "execution_count": 25,
   "metadata": {
    "scrolled": false
   },
   "outputs": [
    {
     "name": "stdout",
     "output_type": "stream",
     "text": [
      "[19, 23, 31, 19, 23, 29, 29, 26, 26, 34]\n"
     ]
    }
   ],
   "source": [
    "\n",
    "def population_n_generations(Z0,p,n):\n",
    "    \"\"\"\n",
    "     int*dict[int:float]*int->list[int]\n",
    "     ...\n",
    "    \"\"\"\n",
    "    #L:list[Number]\n",
    "    L=[]\n",
    "    #z:int\n",
    "    z=Z0\n",
    "\n",
    "    #i:int\n",
    "    for i in range(0,n):\n",
    "        z= update_population(z,p)\n",
    "        L.append(z)\n",
    "        \n",
    "    return L\n",
    "\n",
    "#test pour 10 générations, population initiale 20 individus\n",
    "Z0 = 20\n",
    "n = 10\n",
    "print(population_n_generations(Z0,p,n))"
   ]
  },
  {
   "cell_type": "markdown",
   "metadata": {},
   "source": [
    "À présent, visualisons l'évolution de cette population. Vous pouvez changer $n$, $Z_0$ et $p$."
   ]
  },
  {
   "cell_type": "code",
   "execution_count": 26,
   "metadata": {
    "scrolled": true
   },
   "outputs": [
    {
     "data": {
      "image/png": "[encoded data removed]",
      "text/plain": [
       "<Figure size 432x288 with 1 Axes>"
      ]
     },
     "metadata": {},
     "output_type": "display_data"
    }
   ],
   "source": [
    "n = 300\n",
    "Z0 = 10000\n",
    "p = {0 : 0.4,\n",
    "     1 : 0.3,\n",
    "     2 : 0.2,\n",
    "     3 : 0.1}\n",
    "np.testing.assert_almost_equal(sum(p.values()),1)\n",
    "\n",
    "def plot_population(L):\n",
    "    '''\n",
    "    ??-> None\n",
    "    Visualise the evolution of the population in 'L'\n",
    "    '''\n",
    "    plt.figure()\n",
    "    plt.plot(L)\n",
    "    plt.ylabel(\"Taille Population\")\n",
    "    plt.xlabel(\"Génération\")\n",
    "    plt.show()\n",
    "    return\n",
    "\n",
    "    \n",
    "L=population_n_generations(Z0,p,n)\n",
    "plot_population(L)"
   ]
  },
  {
   "cell_type": "markdown",
   "metadata": {},
   "source": [
    "**Question 1.3** : Pour la capacité de reproduction $p$ donnée en exemple, observez-vous toujours une extinction de la population ?  Si c'est le cas, déterminez combien de générations sont nécessaires *en moyenne* avant que la population ne s'éteigne ?"
   ]
  },
  {
   "cell_type": "markdown",
   "metadata": {},
   "source": [
    "**Réponse**: Non on observe pas toujours une extinction de population"
   ]
  },
  {
   "cell_type": "markdown",
   "metadata": {},
   "source": [
    "On appelle espérance d'une variable discrète $X$ : $\\mathbb{E}[X] = \\sum_k p_kk$"
   ]
  },
  {
   "cell_type": "markdown",
   "metadata": {},
   "source": [
    "**Question 1.4**: Compléter la fonction \"esperance\" ci-dessous permettant de calculer l'espérance d'une variable discrète $X$."
   ]
  },
  {
   "cell_type": "code",
   "execution_count": 27,
   "metadata": {},
   "outputs": [],
   "source": [
    "def esperance(p):\n",
    "    \"\"\"\n",
    "    dict[int:float]->float\n",
    "    ...\n",
    "    \"\"\"\n",
    "    #e:float\n",
    "    e=0\n",
    "    #i : int\n",
    "    for i in p:\n",
    "        e=e+i*p[i]\n",
    "    \n",
    "    return e"
   ]
  },
  {
   "cell_type": "markdown",
   "metadata": {},
   "source": [
    "**Question 1.5**: Prenez à présent une capacité de reproduction dont l'espérance est 1.5 (testez que c'est bien le cas à l'aide de votre fonction précédente), et reproduisez l'expérience de la question 1.3. "
   ]
  },
  {
   "cell_type": "markdown",
   "metadata": {},
   "source": [
    "**Question 1.6** : Jouer sur le paramètre $e = \\mathbb{E}[X]$ et déterminer une valeure qui semble jouer un rôle critique dans le fait que la population va s'éteindre ou pas."
   ]
  },
  {
   "cell_type": "markdown",
   "metadata": {},
   "source": [
    "**Réponse**: 1 est une valeure determinante dans la survivabilité de la population. Si e est inférieure à 1 la population est vouée à s'éteindre et si elle est supérieure elle ne va pas s'éteindre."
   ]
  },
  {
   "cell_type": "markdown",
   "metadata": {},
   "source": [
    "**Question 1.7** : Que se passe-t-il lorsque $Z_0$ et $n$ sont grands ?"
   ]
  },
  {
   "cell_type": "markdown",
   "metadata": {},
   "source": [
    "**Remarque**: ce modèle est basique et ne prend pas en compte de nombreux facteurs comme le genre, la mortalité à la naissance..."
   ]
  },
  {
   "cell_type": "markdown",
   "metadata": {},
   "source": [
    "# 2. Island Model"
   ]
  },
  {
   "cell_type": "markdown",
   "metadata": {},
   "source": [
    "Dans cette seconde partie, le but est d'analyser la répartition et la dissémination des allèles au sein d'une population, répartie dans différentes zones géographiques, tout en prenant en compte les migrations.  \n",
    "\n",
    "**Rappel :** Un allèle est une version variable d'un même gène. En général, il existe deux allèles pour chaque gène. Par exemple : si nous possèdons l'allèle brun nous avons les cheveux bruns, si nous ne l'avons pas nous avons les cheveux blonds. (extrême simplification, ne pas répéter à un biologiste).\n",
    "\n",
    "Imaginons trois iles distinctes $A$, $B$ et $C$, sur chaque île réside une population distincte. Dans chaque population nous constatons une proportion différente de personne possédant un certain allèle. La distribution de cet allèle est notée par : $p_i$ pour $i\\in \\{A,B,C\\}$.\n"
   ]
  },
  {
   "cell_type": "markdown",
   "metadata": {},
   "source": [
    "![Island Model](Island_Model.png \"Island_Model\")"
   ]
  },
  {
   "cell_type": "markdown",
   "metadata": {},
   "source": [
    "Par exemple : $p_A$ représente le pourcentage de la population de l'ile $A$ ayant les cheveux bruns.  \n",
    "\n",
    "**Hypothèse 1:** La population globale $Z$ est considérée comme fixe et équirépartie entre les trois îles, chaque île comporte donc $Z/3$ individus. \n",
    "La population étant considérée comme stable, chaque individu laisse place à un seul individu à la génération suivante. Dans un premier temps nous ignorons donc le renouvelement de la population.  \n",
    "\n",
    "Nous observons une migration d'une **fraction** $m$ d'une île à une autre au fil des générations, celle-ci est cependant équilibrée, à double sens, le nombre d'invidus par île ne varie donc pas. Par exmple, pour $m=0.1$, à chaque génération $10\\%$ de la population va migrer de chaque île vers les autres. Cette fraction ne peut donc pas excéder $0.5$ (dans ce cas la totalité de la population migre de chaque île). \n",
    "\n",
    "Dans cette partie, nous chercherons à répondre à la question suivante : Comment les migrations impactent la distribution d'un allèle au sein des 3 îles ?\n"
   ]
  },
  {
   "cell_type": "markdown",
   "metadata": {},
   "source": [
    "Modélisons l'évolution de la proportion de la population possédant notre allèle (les cheveux bruns) au sein de chaque île. Notons par $p_{A,n}$ la distribution de notre allèle dans l'ile $A$ à la génération $n$.  \n",
    "\n",
    "On a $p_{A,n+1} = \\frac{p_{A,n}\\frac{Z}{3}(1 - 2m) + p_{B,n}\\frac{Z}{3}m + p_{C,n}\\frac{Z}{3}m}{\\frac{Z}{3}}$  \n",
    "\n",
    "et donc $p_{A,n+1} = p_{A,n}(1 - 2m) + p_{B,n}m + p_{C,n}m$."
   ]
  },
  {
   "cell_type": "markdown",
   "metadata": {},
   "source": [
    "**Question 2.1 :** Expliquer cette formule. Quant est-il pour $p_{B,n+1}$ et $p_{C,n+1}$ ?\n",
    "\n",
    "**Réponse**: La proportion de population possédant l'allèle dans l'ile A au cours du temps vaut l'ensemble de la population A(qui vaut 1) - 2 fois le pourcentage m (ce sont les personnes qui vont migrer vers B et C) + la proportion des personnes qui vont de B vers A(la proportion de B possédant l'allele fois m) et de C vers A. Il en sera de meme pour Pbn+1 et Pcn+1, en les intervertissant avec Pan dans la formule du dessous\n"
   ]
  },
  {
   "cell_type": "code",
   "execution_count": 28,
   "metadata": {},
   "outputs": [],
   "source": [
    "# Nous utiliserons les paramètres suivants.\n",
    "\n",
    "m = 0.01 # coefficient de migration\n",
    "\n",
    "p = {'A' : 0.5,\n",
    "    'B' : 0.2,\n",
    "    'C' : 0.8} # Initial probability to have brown hair"
   ]
  },
  {
   "cell_type": "markdown",
   "metadata": {},
   "source": [
    "**Question 2.2 :** Corriger la fonction *update_genetics* ci-dessous qui prend en entrée un dictionaire $p$ (représentant la proportion d'individus ayant les cheveux bruns dans chacune des trois îles à un instant donné), une fraction de migration $m$ et retourne la proportion d'individus ayant les cheveux bruns dans chacune des trois îles à l'instant suivant sous la forme d'un dictionaire."
   ]
  },
  {
   "cell_type": "code",
   "execution_count": 29,
   "metadata": {},
   "outputs": [],
   "source": [
    "def update_genetics(p,m):\n",
    "    '''\n",
    "    dict[str:float]*float->dict[str:float]\n",
    "    Update the population's genetics \n",
    "    '''\n",
    "    p_new={}\n",
    "    p_new['A'] = p['A']*(1-2*m)+p['B']*m+p['C']*m\n",
    "    p_new['B'] = p['B']*(1-2*m)+p['C']*m+p['A']*m # Corriger ici\n",
    "    p_new['C'] = p['C']*(1-2*m)+p['A']*m+p['B']*m # et là\n",
    "    return p_new"
   ]
  },
  {
   "cell_type": "markdown",
   "metadata": {},
   "source": [
    "**Question 2.3 :** Compléter la signature et la description de la fonction *genetics_n_migrations* suivante."
   ]
  },
  {
   "cell_type": "code",
   "execution_count": 30,
   "metadata": {},
   "outputs": [],
   "source": [
    "def genetics_n_migrations(p,m,n):\n",
    "    '''\n",
    "    dict[str:float]*float*int->list[Number]\n",
    "    retourne la liste de la proportion des individus possedant l'allele dans chaque ile au bout de n générations de m pourcent de migration\n",
    "    '''\n",
    "    keys=[\"A\",\"B\",\"C\"] \n",
    "    M = []\n",
    "    M.append([p[k] for k in keys])\n",
    "    for i in range(1,n):\n",
    "        p = update_genetics(p,m)\n",
    "        M.append([p[k] for k in keys])\n",
    "    return M"
   ]
  },
  {
   "cell_type": "markdown",
   "metadata": {},
   "source": [
    "A présent visualisons la fréquence de l'allèle au cours du temps."
   ]
  },
  {
   "cell_type": "code",
   "execution_count": 31,
   "metadata": {
    "scrolled": true
   },
   "outputs": [],
   "source": [
    "p = {'A' : 0.5,\n",
    "    'B' : 0.4,\n",
    "    'C' : 0.8}\n",
    "\n",
    "m = 0.01 # Ratio of the population that migrate every generation\n",
    "\n",
    "n = 300\n",
    "\n",
    "M = genetics_n_migrations(p,m,n)\n",
    "\n",
    "def plot_genetics(M,p):\n",
    "    plt.figure()\n",
    "    plt.plot(M)\n",
    "    plt.legend([\"Island \"+i for i in p])\n",
    "    plt.xlabel(\"Génération\")\n",
    "    plt.ylabel(\"Fréquence allèle dans population\")\n",
    "    plt.show()\n",
    "    return\n"
   ]
  },
  {
   "cell_type": "markdown",
   "metadata": {},
   "source": [
    "**Questions 2.4:** Modifier $p_A,p_B,p_C$ ainsi que le taux de migration $m$ et décrire les différents phénomènes observés."
   ]
  },
  {
   "cell_type": "code",
   "execution_count": 32,
   "metadata": {},
   "outputs": [
    {
     "data": {
      "image/png": "[encoded data removed]",
      "text/plain": [
       "<Figure size 432x288 with 1 Axes>"
      ]
     },
     "metadata": {},
     "output_type": "display_data"
    },
    {
     "name": "stdout",
     "output_type": "stream",
     "text": [
      "None\n"
     ]
    }
   ],
   "source": [
    "p = {'A' : 1,\n",
    "    'B' : 0.5,\n",
    "    'C' : 0}\n",
    "\n",
    "m = 0.01 # Ratio of the population that migrate every generation\n",
    "\n",
    "n = 300\n",
    "\n",
    "M = genetics_n_migrations(p,m,n)\n",
    "\n",
    "def plot_genetics(M,p):\n",
    "    plt.figure()\n",
    "    plt.plot(M)\n",
    "    plt.legend([\"Island \"+i for i in p])\n",
    "    plt.xlabel(\"Génération\")\n",
    "    plt.ylabel(\"Fréquence allèle dans population\")\n",
    "    plt.show()\n",
    "    return\n",
    "\n",
    "print(plot_genetics(M,p))"
   ]
  },
  {
   "cell_type": "markdown",
   "metadata": {},
   "source": [
    "**Réponse**: On remarque que quelle que soit les valeurs prises, la fréquence de l'allèle dans les différentes population converge vers une valeur qui est égale à la moyenne des proportions de base. La \"convergence\" se fait plus ou moins rapidement selon le parametre m, plus celui ci est petit et plus le nombre de générations avant convergence est grand et vice versa."
   ]
  },
  {
   "cell_type": "code",
   "execution_count": null,
   "metadata": {},
   "outputs": [],
   "source": []
  },
  {
   "cell_type": "markdown",
   "metadata": {},
   "source": [
    "On peut complexifier la modélisation en faisant varier le nombre d'îles ou bien les taux de migrations entre îles : $m$ $\\rightarrow$ $m_{A,B}, m_{B,C}, m_{C,A}$."
   ]
  },
  {
   "cell_type": "markdown",
   "metadata": {},
   "source": [
    "### Variante  1 : Nombre d'îles variable :"
   ]
  },
  {
   "cell_type": "markdown",
   "metadata": {},
   "source": [
    "**Question 2.5 (facultatif) :** Adapter les fonctions précédentes pour un nombre d'îles arbitraire. "
   ]
  },
  {
   "cell_type": "markdown",
   "metadata": {},
   "source": [
    "### Variante 2 : Taux de migrations différents entre îles  :"
   ]
  },
  {
   "cell_type": "markdown",
   "metadata": {},
   "source": [
    "Considérons tout d'abord : $m_{A,B} = m_{B,A}$, $m_{A,C} = m_{C,A}$ et $m_{C,B} = m_{B,C}$."
   ]
  },
  {
   "cell_type": "markdown",
   "metadata": {},
   "source": [
    "**Question 2.6 :** Retrouver la formule suivante et adapter les fonctions précédentes. $p_{A,n+1} = p_{A,n}(1-m_{A,B}-m_{C,A})+p_{B,n}m_{B,A}+p_{C,n}m_{C,A}$"
   ]
  },
  {
   "cell_type": "code",
   "execution_count": 33,
   "metadata": {},
   "outputs": [],
   "source": [
    "#Nous utiliserons les paramètres suivants.\n",
    "\n",
    "p = {'A' : 0.5,\n",
    "    'B' : 0.4,\n",
    "    'C' : 0.8} # Initial probability to have red hair \n",
    "\n",
    "m = {('A','B') : 0.2, # Migration ratio from island 'A' to island 'B'\n",
    "     ('B','A') : 0.8,\n",
    "     ('A','C') : 0.05,\n",
    "     ('C','A') : 0.05,\n",
    "     ('B','C') : 0.01,\n",
    "     ('C','B') : 0.01}"
   ]
  },
  {
   "cell_type": "code",
   "execution_count": 34,
   "metadata": {},
   "outputs": [],
   "source": [
    "def generation_variante2(p,m):\n",
    "    '''\n",
    "    dict[str:float]*dict[str:float]->dict[str:float]\n",
    "    Update the population's genetics \n",
    "    '''\n",
    "    \n",
    "    p_new={}\n",
    "    p_new['A'] = p['A']*(1-m['A','B']-m['A','C'])+p['B']*m['B','A']+p['C']*m['C','A']\n",
    "    p_new['B'] = p['B']*(1-m['B','A']-m['B','C'])+p['A']*m['A','B']+p['C']*m['C','B'] \n",
    "    p_new['C'] = p['C']*(1-m['C','A']-m['C','B'])+p['A']*m['A','C']+p['B']*m['B','C']\n",
    "    \n",
    "    return p_new\n",
    "    "
   ]
  },
  {
   "cell_type": "code",
   "execution_count": 35,
   "metadata": {},
   "outputs": [
    {
     "data": {
      "text/plain": [
       "{'A': 0.7350000000000001, 'B': 0.184, 'C': 0.781}"
      ]
     },
     "execution_count": 35,
     "metadata": {},
     "output_type": "execute_result"
    }
   ],
   "source": [
    "generation_variante2(p,m)"
   ]
  },
  {
   "cell_type": "markdown",
   "metadata": {},
   "source": [
    "**Question 2.7**: Que se passe-t-il si le taux de migrations d'un île à une autre n'est plus symétrique : $m_{A,B} \\neq m_{B,A}$ ? Est-ce que notre notre calcul est toujours correct ? (Indice : cf hypothèse 1.)"
   ]
  },
  {
   "cell_type": "markdown",
   "metadata": {},
   "source": [
    "**Réponse** Si le taux de migration n'est plus symetrique d'une ile à une autre, la population d'une des iles recevra plus de personnes qu'elle en perdra, sa population augmentera ainsi, au détriment de la seconde."
   ]
  },
  {
   "cell_type": "markdown",
   "metadata": {},
   "source": [
    "# 3. Galton-Watson et Migrations"
   ]
  },
  {
   "cell_type": "markdown",
   "metadata": {},
   "source": [
    "Dans cette partie nous nous intéressons aux nombres d'individus sur chaque île sans tenir compte de leurs patrimoines génétiques. Nous supposons que la population de chaque île suit un modele de Gatson-Watson. Prenons en compte les migrations et adaptons notre modèle en conséquent.\n",
    "\n",
    "Notons $Z_{A,n},Z_{B,n},Z_{C,n}$ les populations des îles $A$, $B$ et $C$ à la génération $n$. \n",
    "\n",
    "La formule suivante peut sembler compliquée, mais s'interprète assez facilement :\n",
    "- $Z_{A,n+1} = \\sum_{i=1}^{Z_{A,n}'}X$ où $Z_{A,n}' = Z_{A,n}(1-m_{A,B}-m_{A,C})+Z_{B,n}m_{B,A}+Z_{C,n}m_{C,A}$.\n",
    "\n",
    "$Z_{A,n}'$ est la population de l'île $A$ à la generation $n$ **après** avoir pris en compte les migrations.\n",
    "\n",
    "**Question 3.1 :** Retrouver les formules pour $Z_{B,n+1}$ ainsi que pour $Z_{C,n+1}$."
   ]
  },
  {
   "cell_type": "markdown",
   "metadata": {},
   "source": [
    "**Réponse** :De meme que pour $Z_{A,n+1} , $Z_{B,n+1} = \\sum_{i=1}^{Z_{A,n}'}X$ où $Z_{A,n}' = Z_{A,n}(1-m_{B,A}-m_{B,C})+Z_{A,n}m_{A,B}+Z_{C,n}m_{C,B}$.\n",
    "et  $Z_{C,n+1} = \\sum_{i=1}^{Z_{C,n}'}X$ où $Z_{C,n}' = Z_{C,n}(1-m_{C,A}-m_{C,B})+Z_{A,n}m_{A,C}+Z_{B,n}m_{B,C}$."
   ]
  },
  {
   "cell_type": "markdown",
   "metadata": {},
   "source": [
    "Modélisons l'évolution de cet archipel au fil des générations."
   ]
  },
  {
   "cell_type": "code",
   "execution_count": 36,
   "metadata": {},
   "outputs": [],
   "source": [
    "#Nous utiliserons les paramètres suivants.\n",
    "\n",
    "p = {0 : 0.4,\n",
    "     1 : 0.3,\n",
    "     2 : 0.2,\n",
    "     3 : 0.1} # Number of descendants\n",
    "np.testing.assert_almost_equal(sum(p.values()),1)\n",
    "\n",
    "P = {'A' : p,\n",
    "     'B' : p,\n",
    "     'C' : p} # Galton Watson parameter on each island\n",
    "\n",
    "Z0 = {'A' : 40,\n",
    "     'B' : 1000,\n",
    "     'C' : 400} #Initial Population\n",
    "\n",
    "M = {('A','B') : 0.02, # Migration ratio from island 'A' to island 'B'\n",
    "     ('B','A') : 0.02,\n",
    "     ('A','C') : 0.05,\n",
    "     ('C','A') : 0.05,\n",
    "     ('B','C') : 0.01,\n",
    "     ('C','B') : 0.01}\n",
    "\n",
    "n = 20 #Number of generations"
   ]
  },
  {
   "cell_type": "markdown",
   "metadata": {},
   "source": [
    "**Question 3.2 :** Compléter la fonction ci-dessous."
   ]
  },
  {
   "cell_type": "code",
   "execution_count": 37,
   "metadata": {},
   "outputs": [],
   "source": [
    "def update_populations_with_migrations(Z,P,M):\n",
    "    '''\n",
    "    dict[str:float]*dict[str:dict[str:float]]*dict[tuple[str,str]:float] -> dict[str:float]\n",
    "    '''\n",
    "    \n",
    "    Z_new = {}\n",
    "    \n",
    "    \n",
    "    Z_new['A'] = Z['A']*(1-m['A','B']-m['A','C'])+Z['B']*m['B','A']+Z['C']*m['C','A']\n",
    "    Z_new['B'] = Z['B']*(1-m['B','A']-m['B','C'])+Z['A']*m['A','B']+Z['C']*m['C','B'] \n",
    "    Z_new['C'] = Z['C']*(1-m['C','A']-m['C','B'])+Z['A']*m['A','C']+Z['B']*m['B','C']\n",
    "    \n",
    "    R = {}\n",
    "    R['A'] = update_population(int(Z_new['A']),P['A'])\n",
    "    R['B'] = update_population(int(Z_new['B']),P['B'])\n",
    "    R['C'] = update_population(int(Z_new['C']),P['C'])\n",
    "    \n",
    "    \n",
    "    return R"
   ]
  },
  {
   "cell_type": "code",
   "execution_count": 38,
   "metadata": {},
   "outputs": [
    {
     "data": {
      "text/plain": [
       "{'A': 825, 'B': 212, 'C': 406}"
      ]
     },
     "execution_count": 38,
     "metadata": {},
     "output_type": "execute_result"
    }
   ],
   "source": [
    "update_populations_with_migrations(Z0,P,M)"
   ]
  },
  {
   "cell_type": "markdown",
   "metadata": {},
   "source": [
    "**Question 3.3 :** Visualiser le nombre d'individu sur chaque île."
   ]
  },
  {
   "cell_type": "markdown",
   "metadata": {},
   "source": [
    "**Réponse** il y a respectivement 566, 525 et 428 personnes sur les iles A,B et C"
   ]
  },
  {
   "cell_type": "markdown",
   "metadata": {},
   "source": [
    "**Questions 3.4 :**\n",
    "- Faire varier les populations initiales $Z_0$.\n",
    "- Modifier les paramètres de migrations pour éteindre la population d'une seule île.\n",
    "- Faire survivre la population d'une seule île."
   ]
  },
  {
   "cell_type": "code",
   "execution_count": 45,
   "metadata": {},
   "outputs": [],
   "source": [
    "def population_n_generation(Z0,n,p,m):\n",
    "\n",
    "\n",
    "    L = [[Z0['A'],Z0['B'],Z0['C']]]\n",
    "    Z=Z0\n",
    "    for generation in range(1,n):\n",
    "        Z= update_populations_with_migrations(Z,p,m)\n",
    "        L.append([Z['A'],Z['B'],Z['C']])\n",
    "    return L"
   ]
  },
  {
   "cell_type": "code",
   "execution_count": 40,
   "metadata": {},
   "outputs": [],
   "source": [
    "def visualisation_populations_with_migrations(Z,p,m,n):\n",
    "    \n",
    "    fig=plt.figure()\n",
    "    pop= population_n_generation(Z,n,p,m)\n",
    "    plt.plot(pop)\n",
    "    \n",
    "    plt.legend([\"Island\" + str(i) for i in p.keys()])\n",
    "    plt.ylabel(\"Taille Population\")\n",
    "    plt.xlabel(\"Generation\")\n",
    "    plt.show()\n",
    "    \n",
    "    return\n",
    "    "
   ]
  },
  {
   "cell_type": "markdown",
   "metadata": {},
   "source": [
    "**1)**"
   ]
  },
  {
   "cell_type": "code",
   "execution_count": 46,
   "metadata": {},
   "outputs": [],
   "source": [
    "Z02 = {'A' : 500,\n",
    "     'B' : 500,\n",
    "     'C' : 500}"
   ]
  },
  {
   "cell_type": "code",
   "execution_count": 47,
   "metadata": {},
   "outputs": [
    {
     "data": {
      "text/plain": [
       "[[500, 500, 500],\n",
       " [858, 167, 474],\n",
       " [810, 197, 527],\n",
       " [746, 191, 544],\n",
       " [767, 208, 523],\n",
       " [782, 184, 530],\n",
       " [801, 187, 545],\n",
       " [793, 206, 545],\n",
       " [782, 214, 552],\n",
       " [787, 209, 507],\n",
       " [802, 209, 496],\n",
       " [706, 220, 505],\n",
       " [721, 202, 552],\n",
       " [677, 169, 559],\n",
       " [696, 178, 596],\n",
       " [726, 167, 621],\n",
       " [740, 191, 643],\n",
       " [809, 179, 614],\n",
       " [746, 177, 654],\n",
       " [722, 185, 680]]"
      ]
     },
     "execution_count": 47,
     "metadata": {},
     "output_type": "execute_result"
    }
   ],
   "source": [
    "population_n_generation(Z02,n,P,M)"
   ]
  },
  {
   "cell_type": "markdown",
   "metadata": {},
   "source": [
    "**2)**"
   ]
  },
  {
   "cell_type": "code",
   "execution_count": 91,
   "metadata": {},
   "outputs": [],
   "source": [
    "M2 = {('A','B') : 0.5, # Migration ratio from island 'A' to island 'B'\n",
    "     ('B','A') : 0.1,\n",
    "     ('A','C') : 0.5,\n",
    "     ('C','A') : 0.02,\n",
    "     ('B','C') : 0.0,\n",
    "     ('C','B') : 0.015}"
   ]
  },
  {
   "cell_type": "code",
   "execution_count": 94,
   "metadata": {},
   "outputs": [
    {
     "data": {
      "text/plain": [
       "[[500, 500, 500],\n",
       " [766, 195, 486],\n",
       " [748, 189, 499],\n",
       " [737, 196, 539],\n",
       " [760, 184, 528],\n",
       " [745, 206, 494],\n",
       " [723, 189, 472],\n",
       " [713, 187, 432],\n",
       " [726, 187, 449],\n",
       " [711, 182, 454],\n",
       " [657, 197, 457],\n",
       " [662, 165, 481],\n",
       " [651, 191, 525],\n",
       " [676, 173, 543],\n",
       " [692, 159, 579],\n",
       " [691, 176, 564],\n",
       " [657, 167, 589],\n",
       " [624, 172, 566],\n",
       " [647, 169, 569],\n",
       " [681, 180, 544]]"
      ]
     },
     "execution_count": 94,
     "metadata": {},
     "output_type": "execute_result"
    }
   ],
   "source": [
    "population_n_generation(Z02,n,P,M2)\n"
   ]
  },
  {
   "cell_type": "code",
   "execution_count": null,
   "metadata": {
    "scrolled": true
   },
   "outputs": [],
   "source": []
  },
  {
   "cell_type": "markdown",
   "metadata": {},
   "source": [
    "### Visualisation Dynamique (Facultatif)"
   ]
  },
  {
   "cell_type": "markdown",
   "metadata": {},
   "source": [
    "Avec cette visualisation il est très simple d'observer les phénomènes de cas (sur/sous)-critiques, en faisant varier ne serait-ce que très légérement l'espérance."
   ]
  },
  {
   "cell_type": "code",
   "execution_count": null,
   "metadata": {},
   "outputs": [],
   "source": [
    "import pandas as pd\n",
    "def animated_populations(Z,P,M,n):\n",
    "    n_island = len(Z)\n",
    "    pop_dict = {0:Z}\n",
    "    for i in range(n):\n",
    "        Z = update_populations_with_migrations(Z,P,M)\n",
    "        pop_dict[i]=Z.copy()\n",
    "    pop_df = pd.DataFrame.from_dict(pop_dict,orient='index')\n",
    "    fig = plt.figure()\n",
    "    cmap = plt.get_cmap('tab10')\n",
    "    barplot = plt.bar(range(n_island),pop_df.max(),color=[cmap(i) for i in range(n_island)])\n",
    "    def animate(i):\n",
    "        populations = pop_df.iloc[i,:]\n",
    "        for j,b in enumerate(barplot):\n",
    "            b.set_height(populations[j])\n",
    "    plt.tick_params(top=False,right=False)\n",
    "    plt.xticks(range(n_island),[\"Island \"+str(i) for i in Z.keys()])\n",
    "    plt.ylabel(\"Population\")\n",
    "    for spine in plt.gca().spines.values():\n",
    "        spine.set_visible(False)\n",
    "    anim = animation.FuncAnimation(fig,animate,blit=False,\n",
    "                                  frames = n,interval=300,repeat=False)\n",
    "    #anim.save('mymovie.mp4',writer=animation.FFMpegWriter(fps=10))\n",
    "    return anim"
   ]
  },
  {
   "cell_type": "code",
   "execution_count": null,
   "metadata": {},
   "outputs": [],
   "source": [
    "p = {0 : 0.4,\n",
    "     1 : 0.3,\n",
    "     2 : 0.2,\n",
    "     3 : 0.1}\n",
    "np.testing.assert_almost_equal(sum(p.values()),1)\n",
    "P = {'A' : p,\n",
    "     'B' : p,\n",
    "     'C' : p}\n",
    "Z0 = {'A' : 400,\n",
    "     'B' : 2000,\n",
    "     'C' : 400}\n",
    "M = {('A','B') : 0.05, # Migration ratio from island 'A' to island 'B'\n",
    "     ('B','A') : 0.05,\n",
    "     ('A','C') : 0.05,\n",
    "     ('C','A') : 0.05,\n",
    "     ('B','C') : 0.01,\n",
    "     ('C','B') : 0.01}\n",
    "n = 400\n",
    "animated_populations(Z0,P,M,n)"
   ]
  },
  {
   "cell_type": "markdown",
   "metadata": {},
   "source": [
    "# 4. Galton-Island"
   ]
  },
  {
   "cell_type": "markdown",
   "metadata": {},
   "source": [
    "Retournons à notre Island Model, maintenant que nous avons pris en compte l'évolution de la population sur chaque île, celle-ci n'étant plus constante, nous allons pouvoir réaliser un modèle un peu plus réaliste, nous oublions l'**hypothèse 1**."
   ]
  },
  {
   "cell_type": "markdown",
   "metadata": {},
   "source": [
    "**Question 4.1 :** Retrouver la formule générale suivante :\n",
    "\n",
    "$p_{A,n+1} = \\frac{\\displaystyle p_{A,n}Z_{A,n}(1-m_{A,B}-m_{A,C})+p_{B,n}Z_{B,n}m_{B,A}+p_{C,n}Z_{C,n}m_{C,n}}{\\displaystyle Z_{A,n}(1-m_{A,B}-m_{A,C})+Z_{B,n}m_{B,A}+Z_{C,n}m_{C,n}}$\n",
    "\n",
    "\n",
    "Adapter les fonctions précédentes dans les box ci dessous."
   ]
  },
  {
   "cell_type": "code",
   "execution_count": null,
   "metadata": {},
   "outputs": [],
   "source": [
    "def update_genetics_with_migrations(Z,p_genetics,m,verbose=False):\n",
    "    '''\n",
    "    Update the genetics of the population 'C', with parameter in 'p_galton' and 'p_genetics',\n",
    "    according to migrations 'm' \n",
    "    '''\n",
    "    # A FAIRE\n",
    "    return"
   ]
  },
  {
   "cell_type": "code",
   "execution_count": null,
   "metadata": {},
   "outputs": [],
   "source": [
    "def galton_island(Z,p_galton,p_genetics,m,n):\n",
    "    '''\n",
    "    Combinaison des deux modèles \n",
    "    '''\n",
    "    # A FAIRE\n",
    "    return "
   ]
  },
  {
   "cell_type": "code",
   "execution_count": null,
   "metadata": {},
   "outputs": [],
   "source": [
    "Z = {'A' : 500,\n",
    "     'B' : 10000,\n",
    "     'C' : 50} # Initial population\n",
    "p = {0 : 0.3,\n",
    "     1 : 0.5,\n",
    "     2 : 0.1,\n",
    "     3 : 0.1}\n",
    "p_galton = {'A' : p,\n",
    "            'B' : p,\n",
    "            'C' : p}\n",
    "p_genetics = {'A' : 0.05,\n",
    "              'B' : 0.1,\n",
    "              'C' : 0.05} # Initial proportion of the population that can survive the disease. \n",
    "m = {('A','B') : 0.02, # Migration ratio from island 'A' to island 'B'\n",
    "     ('B','A') : 0.02,\n",
    "     ('A','C') : 0.05,\n",
    "     ('C','A') : 0.02,\n",
    "     ('B','C') : 0.04,\n",
    "     ('C','B') : 0.02}\n",
    "n = 500\n",
    "galton_island(Z,p_galton,p_genetics,m,n)"
   ]
  },
  {
   "cell_type": "markdown",
   "metadata": {},
   "source": [
    "**Questions 4.2 :** Observer l'évolution de la proportion de la population possédant l'allèle au sein de chaque île."
   ]
  },
  {
   "cell_type": "markdown",
   "metadata": {},
   "source": [
    "# 5. L'épidémie"
   ]
  },
  {
   "cell_type": "markdown",
   "metadata": {},
   "source": [
    "Une épidémie se propage sur l'archipel, seul les individus possèdant la version du gène étudié (les cheveux bruns) peuvent y survivre. (Un truc très sérieux, genre peste bubonique ou ebola 2.0). Cette épidémie survient lors de la génération arbitraire : *n_epi*.\n"
   ]
  },
  {
   "cell_type": "markdown",
   "metadata": {},
   "source": [
    "**Question 5.1 :** Rajoutez dans la fonction *galton_island* précédente une condition permettant de modéliser ce phénomène. \n",
    "Indice : Rajouter un test correpondant à *n_epi* et ajuster la population en fonction de $p_{A,n}$, $p_{B,n}$ et $p_{C,n}$. "
   ]
  },
  {
   "cell_type": "code",
   "execution_count": null,
   "metadata": {},
   "outputs": [],
   "source": [
    "def galton_island_with_disease(Z,p_galton,p_genetics,m,n,n_epi):\n",
    "    '''\n",
    "    Combinaison des deux modèles + maladie à la génération 'n_epi'\n",
    "    '''\n",
    "    # A FAIRE\n",
    "    return "
   ]
  },
  {
   "cell_type": "code",
   "execution_count": null,
   "metadata": {},
   "outputs": [],
   "source": [
    "Z = {'A' : 500,\n",
    "     'B' : 10000,\n",
    "     'C' : 500} # Initial population\n",
    "p = {0 : 0.3,\n",
    "     1 : 0.5,\n",
    "     2 : 0.1,\n",
    "     3 : 0.1}\n",
    "p_galton = {'A' : p,\n",
    "            'B' : p,\n",
    "            'C' : p}\n",
    "p_genetics = {'A' : 0.05,\n",
    "              'B' : 0.1,\n",
    "              'C' : 0.05} # Initial proportion of the population that can survive the disease. \n",
    "m = {('A','B') : 0.02, # Migration ratio from island 'A' to island 'B'\n",
    "     ('B','A') : 0.02,\n",
    "     ('A','C') : 0.05,\n",
    "     ('C','A') : 0.02,\n",
    "     ('B','C') : 0.04,\n",
    "     ('C','B') : 0.02}\n",
    "n_epi = 50\n",
    "n = 200"
   ]
  },
  {
   "cell_type": "code",
   "execution_count": null,
   "metadata": {},
   "outputs": [],
   "source": [
    "galton_island_with_disease(Z,p_galton,p_genetics,m,n,n_epi)"
   ]
  },
  {
   "cell_type": "markdown",
   "metadata": {},
   "source": [
    "**Questions 5.2 :**\n",
    "  - Faire varier les paramètres des 2 modèles afin de faire survivre les populations des trois iles.\n",
    "  - Faire varier les paramètres afin de faire survivre seulement les habitants des îles $A$ et $B$.\n",
    "  - Faire varier les paramètres afin de faire survivre seulement les habitant de l'île $C$."
   ]
  }
 ],
 "metadata": {
  "kernelspec": {
   "display_name": "Python 3",
   "language": "python",
   "name": "python3"
  },
  "language_info": {
   "codemirror_mode": {
    "name": "ipython",
    "version": 3
   },
   "file_extension": ".py",
   "mimetype": "text/x-python",
   "name": "python",
   "nbconvert_exporter": "python",
   "pygments_lexer": "ipython3",
   "version": "3.5.3"
  }
 },
 "nbformat": 4,
 "nbformat_minor": 2
}
