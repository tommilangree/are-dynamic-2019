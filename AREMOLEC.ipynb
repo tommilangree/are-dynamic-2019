{
 "cells": [
  {
   "cell_type": "code",
   "execution_count": 1,
   "metadata": {},
   "outputs": [],
   "source": [
    "#%matplotlib notebook\n",
    "import matplotlib.pyplot as plt\n",
    "import matplotlib.animation as anim\n",
    "import numpy as np\n",
    "import copy"
   ]
  },
  {
   "cell_type": "code",
   "execution_count": 2,
   "metadata": {},
   "outputs": [],
   "source": [
    "n=10\n",
    "def random_particules_v2(n):\n",
    "    X=[]\n",
    "    Y=[]\n",
    "    poids_particules={}\n",
    "    for i in range(n):\n",
    "        x,y = np.random.random(),np.random.random()\n",
    "        X.append(x)\n",
    "        Y.append(y)\n",
    "        \n",
    "        if np.random.rand()<=(1/3):\n",
    "            poids_particules[(x,y)] = 1\n",
    "        elif np.random.rand()<=(1/3):\n",
    "            poids_particules[(x,y)] = 10\n",
    "        else :\n",
    "            poids_particules[(x,y)] = 13\n",
    "        \n",
    "    return X,Y,poids_particules"
   ]
  },
  {
   "cell_type": "code",
   "execution_count": 3,
   "metadata": {},
   "outputs": [
    {
     "data": {
      "text/plain": [
       "([0.7042409676625755,\n",
       "  0.3877451336307072,\n",
       "  0.9539598100868399,\n",
       "  0.7622664128070958],\n",
       " [0.08056349877339353,\n",
       "  0.1948955943873535,\n",
       "  0.8925391722902533,\n",
       "  0.9232572838385249],\n",
       " {(0.3877451336307072, 0.1948955943873535): 1,\n",
       "  (0.7042409676625755, 0.08056349877339353): 13,\n",
       "  (0.7622664128070958, 0.9232572838385249): 13,\n",
       "  (0.9539598100868399, 0.8925391722902533): 1})"
      ]
     },
     "execution_count": 3,
     "metadata": {},
     "output_type": "execute_result"
    }
   ],
   "source": [
    "random_particules_v2(4)"
   ]
  },
  {
   "cell_type": "code",
   "execution_count": 4,
   "metadata": {},
   "outputs": [],
   "source": [
    "def direction(X,Y,v):\n",
    "    Xdir=[]\n",
    "    Ydir=[]\n",
    "    for i in range(len(X)):\n",
    "        if np.random.rand()>0.5:\n",
    "            Xdir.append(v)\n",
    "        else:\n",
    "            Xdir.append(-v)\n",
    "    for i in range(len(Y)):\n",
    "        if np.random.rand()>0.5:\n",
    "            Ydir.append(v)\n",
    "        else:\n",
    "            Ydir.append(-v)\n",
    "        \n",
    "        \n",
    "    return Xdir,Ydir"
   ]
  },
  {
   "cell_type": "code",
   "execution_count": 5,
   "metadata": {},
   "outputs": [],
   "source": [
    "def update_particules(X,Y,v,poids_particules,Xdir,Ydir):\n",
    "    \n",
    "    poids_particules2=copy.deepcopy(poids_particules)\n",
    "    \n",
    "    Xnew=[]\n",
    "    Ynew=[]\n",
    "    i=0\n",
    "    for x0,x1,y0,y1 in zip(X,Xdir,Y,Ydir):\n",
    "        i+=1\n",
    "        #REBOND\n",
    "        if x0+x1 >= 1:\n",
    "            new_x = 1\n",
    "            Xnew.append(new_x)\n",
    "            Xdir[i-1]=-x1\n",
    "        elif x0+x1<=0:\n",
    "            new_x = 0\n",
    "            Xnew.append(new_x)\n",
    "            Xdir[i-1]=-x1                \n",
    "        else:\n",
    "            new_x = x0+x1\n",
    "            Xnew.append(new_x)\n",
    "            \n",
    "        #REBOND\n",
    "        if y0+y1>=1:\n",
    "            new_y = 1\n",
    "            Ynew.append(new_y)\n",
    "            Ydir[i-1]=-y1\n",
    "        elif y0+y1<=0:\n",
    "            new_y = 0\n",
    "            Ynew.append(new_y)\n",
    "            Ydir[i-1]=-y1         \n",
    "        else:\n",
    "            new_y = y0+y1\n",
    "            Ynew.append(new_y)\n",
    "        \n",
    "        poids_particules2[(new_x,new_y)] = poids_particules2[(x0,y0)]\n",
    "        \n",
    "        del poids_particules2[(x0,y0)]\n",
    "        \n",
    "    return Xnew,Ynew,poids_particules2,Xdir,Ydir"
   ]
  },
  {
   "cell_type": "code",
   "execution_count": 6,
   "metadata": {},
   "outputs": [],
   "source": [
    "def fusion_v4(X,Y,poids_particules):\n",
    "    \n",
    "    X2=[]\n",
    "    Y2=[]\n",
    "    poids_particules2=copy.deepcopy(poids_particules)\n",
    "    weight_set = set([2,11,12,20,23,30,33,24,16])  # numero atomique \n",
    "    for xA,yA in zip(X,Y):\n",
    "        for xB,yB in zip(X,Y):\n",
    "            if xA != xB and yA != yB:\n",
    "                if np.around(xA,1) == np.around(xB,1) and np.around(yA,1) == np.around(yB,1):\n",
    "                    new_weight = poids_particules[(xA,yA)] + poids_particules[(xB,yB)]\n",
    "                    if new_weight in weight_set:\n",
    "                        poids_particules2[(xA,yA)] = new_weight                        \n",
    "                X2.append(xA)\n",
    "                Y2.append(yA)\n",
    "    \n",
    "    for k in poids_particules2:\n",
    "        if k[0] not in X2 and k[1] not in Y2:\n",
    "            del poids_particules2[k]\n",
    "                            \n",
    "    return X2,Y2,poids_particules2"
   ]
  },
  {
   "cell_type": "code",
   "execution_count": 7,
   "metadata": {},
   "outputs": [
    {
     "data": {
      "image/png": "[encoded data removed]",
      "text/plain": [
       "<Figure size 432x288 with 1 Axes>"
      ]
     },
     "metadata": {},
     "output_type": "display_data"
    },
    {
     "name": "stdout",
     "output_type": "stream",
     "text": [
      "t =  0\n"
     ]
    },
    {
     "data": {
      "image/png": "[encoded data removed]",
      "text/plain": [
       "<Figure size 432x288 with 1 Axes>"
      ]
     },
     "metadata": {},
     "output_type": "display_data"
    },
    {
     "name": "stdout",
     "output_type": "stream",
     "text": [
      "t =  1\n"
     ]
    },
    {
     "ename": "KeyError",
     "evalue": "(0.8395055458130205, 0.0033691401258915538)",
     "output_type": "error",
     "traceback": [
      "\u001b[0;31m---------------------------------------------------------------------------\u001b[0m",
      "\u001b[0;31mKeyError\u001b[0m                                  Traceback (most recent call last)",
      "\u001b[0;32m<ipython-input-7-ae520a378055>\u001b[0m in \u001b[0;36m<module>\u001b[0;34m()\u001b[0m\n\u001b[1;32m     27\u001b[0m         \u001b[0;32massert\u001b[0m \u001b[0;34m(\u001b[0m\u001b[0mx0\u001b[0m\u001b[0;34m,\u001b[0m\u001b[0my0\u001b[0m\u001b[0;34m)\u001b[0m \u001b[0;32min\u001b[0m \u001b[0mpoids_particules\u001b[0m\u001b[0;34m\u001b[0m\u001b[0m\n\u001b[1;32m     28\u001b[0m \u001b[0;34m\u001b[0m\u001b[0m\n\u001b[0;32m---> 29\u001b[0;31m     \u001b[0mX\u001b[0m\u001b[0;34m,\u001b[0m\u001b[0mY\u001b[0m\u001b[0;34m,\u001b[0m\u001b[0mpoids_particules\u001b[0m\u001b[0;34m,\u001b[0m\u001b[0mXdir\u001b[0m\u001b[0;34m,\u001b[0m\u001b[0mYdir\u001b[0m \u001b[0;34m=\u001b[0m \u001b[0mupdate_particules\u001b[0m\u001b[0;34m(\u001b[0m\u001b[0mX\u001b[0m\u001b[0;34m,\u001b[0m\u001b[0mY\u001b[0m\u001b[0;34m,\u001b[0m\u001b[0;36m0.05\u001b[0m\u001b[0;34m,\u001b[0m\u001b[0mpoids_particules\u001b[0m\u001b[0;34m,\u001b[0m\u001b[0mXdir\u001b[0m\u001b[0;34m,\u001b[0m\u001b[0mYdir\u001b[0m\u001b[0;34m)\u001b[0m\u001b[0;34m\u001b[0m\u001b[0m\n\u001b[0m\u001b[1;32m     30\u001b[0m \u001b[0;34m\u001b[0m\u001b[0m\n\u001b[1;32m     31\u001b[0m     \u001b[0;32mfor\u001b[0m \u001b[0mx0\u001b[0m\u001b[0;34m,\u001b[0m\u001b[0my0\u001b[0m \u001b[0;32min\u001b[0m \u001b[0mzip\u001b[0m\u001b[0;34m(\u001b[0m\u001b[0mX\u001b[0m\u001b[0;34m,\u001b[0m\u001b[0mY\u001b[0m\u001b[0;34m)\u001b[0m\u001b[0;34m:\u001b[0m\u001b[0;34m\u001b[0m\u001b[0m\n",
      "\u001b[0;32m<ipython-input-5-e33986d61ed9>\u001b[0m in \u001b[0;36mupdate_particules\u001b[0;34m(X, Y, v, poids_particules, Xdir, Ydir)\u001b[0m\n\u001b[1;32m     34\u001b[0m             \u001b[0mYnew\u001b[0m\u001b[0;34m.\u001b[0m\u001b[0mappend\u001b[0m\u001b[0;34m(\u001b[0m\u001b[0mnew_y\u001b[0m\u001b[0;34m)\u001b[0m\u001b[0;34m\u001b[0m\u001b[0m\n\u001b[1;32m     35\u001b[0m \u001b[0;34m\u001b[0m\u001b[0m\n\u001b[0;32m---> 36\u001b[0;31m         \u001b[0mpoids_particules2\u001b[0m\u001b[0;34m[\u001b[0m\u001b[0;34m(\u001b[0m\u001b[0mnew_x\u001b[0m\u001b[0;34m,\u001b[0m\u001b[0mnew_y\u001b[0m\u001b[0;34m)\u001b[0m\u001b[0;34m]\u001b[0m \u001b[0;34m=\u001b[0m \u001b[0mpoids_particules2\u001b[0m\u001b[0;34m[\u001b[0m\u001b[0;34m(\u001b[0m\u001b[0mx0\u001b[0m\u001b[0;34m,\u001b[0m\u001b[0my0\u001b[0m\u001b[0;34m)\u001b[0m\u001b[0;34m]\u001b[0m\u001b[0;34m\u001b[0m\u001b[0m\n\u001b[0m\u001b[1;32m     37\u001b[0m \u001b[0;34m\u001b[0m\u001b[0m\n\u001b[1;32m     38\u001b[0m         \u001b[0;32mdel\u001b[0m \u001b[0mpoids_particules2\u001b[0m\u001b[0;34m[\u001b[0m\u001b[0;34m(\u001b[0m\u001b[0mx0\u001b[0m\u001b[0;34m,\u001b[0m\u001b[0my0\u001b[0m\u001b[0;34m)\u001b[0m\u001b[0;34m]\u001b[0m\u001b[0;34m\u001b[0m\u001b[0m\n",
      "\u001b[0;31mKeyError\u001b[0m: (0.8395055458130205, 0.0033691401258915538)"
     ]
    }
   ],
   "source": [
    "t=50\n",
    "plt.figure()\n",
    "\n",
    "plt.xlim(0, 1)\n",
    "plt.ylim(0, 1)\n",
    "\n",
    "X,Y,poids_particules=random_particules_v2(50)\n",
    "\n",
    "for x0,y0 in zip(X,Y):\n",
    "        assert (x0,y0) in poids_particules\n",
    "        if poids_particules[(x0,y0)] == 1:\n",
    "            plt.scatter(x0,y0,c=\"gray\")\n",
    "        elif poids_particules[(x0,y0)] == 10:\n",
    "            plt.scatter(x0,y0,c=\"red\")\n",
    "        elif poids_particules[(x0,y0)] == 13:\n",
    "            plt.scatter(x0,y0,c=\"black\")\n",
    "\n",
    "#plt.savefig(\"0.png\")\n",
    "plt.show()\n",
    "\n",
    "Xdir,Ydir = direction(X,Y,0.05)\n",
    "          \n",
    "for i in range(t):\n",
    "    print(\"t = \",i)\n",
    "    \n",
    "    for x0,y0 in zip(X,Y):\n",
    "        assert (x0,y0) in poids_particules\n",
    "        \n",
    "    X,Y,poids_particules,Xdir,Ydir = update_particules(X,Y,0.05,poids_particules,Xdir,Ydir)\n",
    "    \n",
    "    for x0,y0 in zip(X,Y):\n",
    "        assert (x0,y0) in poids_particules\n",
    "    \n",
    "    X,Y,poids_particules=fusion_v4(X,Y,poids_particules)\n",
    "    \n",
    "    for x0,y0 in zip(X,Y):\n",
    "        assert (x0,y0) in poids_particules\n",
    "    \n",
    "    for x0,y0 in zip(X,Y):\n",
    "        #print(X)\n",
    "        #print(Y)\n",
    "        #print(poids_particules)\n",
    "        if poids_particules[(x0,y0)] == 1:\n",
    "            plt.scatter(x0,y0,c=\"gray\")\n",
    "        elif poids_particules[(x0,y0)] == 10:\n",
    "            plt.scatter(x0,y0,c=\"red\")\n",
    "        elif poids_particules[(x0,y0)] == 13:\n",
    "            plt.scatter(x0,y0,c=\"black\")\n",
    "    \n",
    "        elif poids_particules[(x0,y0)] == 2:\n",
    "            plt.scatter(x0,y0,c=\"gray\",s=200)\n",
    "        \n",
    "        elif poids_particules[(x0,y0)] == 11:\n",
    "            plt.scatter(x0,y0,c=\"red\",s=400,marker='s')\n",
    "    \n",
    "        elif poids_particules[(x0,y0)] == 24:#(xA,yA)#0.480804576259627\n",
    "            plt.scatter(x0,y0,c=\"red\",s=800,marker='s')\n",
    "    \n",
    "        elif poids_particules[(x0,y0)] == 20:\n",
    "            plt.scatter(x0,y0,c=\"red\",s=200)\n",
    "            \n",
    "        elif poids_particules[(x0,y0)] == 30:\n",
    "            plt.scatter(x0,y0,c=\"red\",s=400)\n",
    "            \n",
    "        elif poids_particules[(x0,y0)] == 23:\n",
    "            plt.scatter(x0,y0,c=\"red\",s=200,marker='p')\n",
    "            \n",
    "        elif poids_particules[(x0,y0)] == 33:\n",
    "            plt.scatter(x0,y0,c=\"red\",s=400,marker='p')\n",
    "        elif poids_particules[(x0,y0)] == 12:\n",
    "            plt.scatter(x0,y0,c=\"blue\",s=400,marker='X')\n",
    "        plt.xlim(0, 1)\n",
    "        plt.ylim(0, 1)\n",
    "    \n",
    "    \n",
    "  \n",
    "    #plt.savefig(str(i+1)+\".png\")\n",
    "    plt.show()"
   ]
  },
  {
   "cell_type": "code",
   "execution_count": null,
   "metadata": {},
   "outputs": [],
   "source": [
    "(0, 0.05386341684468385) in poids_particules"
   ]
  },
  {
   "cell_type": "code",
   "execution_count": 8,
   "metadata": {},
   "outputs": [],
   "source": [
    "n=10\n",
    "def random_particules_v3(n):\n",
    "    N=[]\n",
    "    for i in range(n):\n",
    "        i=i+1\n",
    "        N.append(i)\n",
    "    position={}\n",
    "    typ= {}\n",
    "    for i in range(n):\n",
    "        x,y = np.random.random(),np.random.random()\n",
    "        position[i]=(x,y)\n",
    "        \n",
    "        if np.random.rand()<=(1/3):\n",
    "            typ[i] = 1\n",
    "        elif np.random.rand()<=(1/3):\n",
    "            typ[i] = 10\n",
    "        else :\n",
    "            typ[i] = 13\n",
    "        \n",
    "    return N,position,typ"
   ]
  },
  {
   "cell_type": "code",
   "execution_count": 9,
   "metadata": {},
   "outputs": [],
   "source": [
    "N=[]\n",
    "for i in range(10):\n",
    "    i=i+1\n",
    "    N.append(i)"
   ]
  },
  {
   "cell_type": "code",
   "execution_count": 10,
   "metadata": {},
   "outputs": [
    {
     "data": {
      "text/plain": [
       "[1, 2, 3, 4, 5, 6, 7, 8, 9, 10]"
      ]
     },
     "execution_count": 10,
     "metadata": {},
     "output_type": "execute_result"
    }
   ],
   "source": [
    "N"
   ]
  },
  {
   "cell_type": "code",
   "execution_count": 11,
   "metadata": {},
   "outputs": [],
   "source": [
    "N,position,typ = random_particules_v3(4)"
   ]
  },
  {
   "cell_type": "code",
   "execution_count": 12,
   "metadata": {},
   "outputs": [
    {
     "data": {
      "text/plain": [
       "{0: (0.9573698622338043, 0.7523037153075077),\n",
       " 1: (0.20330769268106574, 0.8048853375936761),\n",
       " 2: (0.20776109297187006, 0.6906800966530314),\n",
       " 3: (0.4658603595188874, 0.04499893500314878)}"
      ]
     },
     "execution_count": 12,
     "metadata": {},
     "output_type": "execute_result"
    }
   ],
   "source": [
    "position"
   ]
  },
  {
   "cell_type": "code",
   "execution_count": 13,
   "metadata": {},
   "outputs": [],
   "source": [
    "(a,b) = position[2]"
   ]
  },
  {
   "cell_type": "code",
   "execution_count": 14,
   "metadata": {},
   "outputs": [
    {
     "data": {
      "text/plain": [
       "0.20776109297187006"
      ]
     },
     "execution_count": 14,
     "metadata": {},
     "output_type": "execute_result"
    }
   ],
   "source": [
    "a"
   ]
  },
  {
   "cell_type": "code",
   "execution_count": 15,
   "metadata": {},
   "outputs": [
    {
     "data": {
      "text/plain": [
       "(6, 6)"
      ]
     },
     "execution_count": 15,
     "metadata": {},
     "output_type": "execute_result"
    }
   ],
   "source": [
    "def sum_tuple(a,b):\n",
    "    return (a[0]+b[0],a[1]+b[1])\n",
    "sum_tuple((4,5),(2,1))"
   ]
  },
  {
   "cell_type": "code",
   "execution_count": 16,
   "metadata": {},
   "outputs": [],
   "source": [
    "def mult_tuple(a,b):\n",
    "    return (a[0]*b[0],a[1]*b[1])\n"
   ]
  },
  {
   "cell_type": "code",
   "execution_count": 17,
   "metadata": {},
   "outputs": [
    {
     "data": {
      "text/plain": [
       "(8, 5)"
      ]
     },
     "execution_count": 17,
     "metadata": {},
     "output_type": "execute_result"
    }
   ],
   "source": [
    "mult_tuple((4,5),(2,1))"
   ]
  },
  {
   "cell_type": "code",
   "execution_count": 18,
   "metadata": {},
   "outputs": [],
   "source": [
    "def direction_v3(N,position,v):\n",
    "    direction={}\n",
    "    \n",
    "    for i in range(len(N)):\n",
    "        if np.random.rand()<0.25:\n",
    "            direction[i]=(v,v)\n",
    "            \n",
    "        elif np.random.rand()<0.25:\n",
    "            direction[i]=(-v,-v)\n",
    "            \n",
    "        elif np.random.rand()<0.25:\n",
    "            direction[i]=(v,-v)\n",
    "            \n",
    "        else: \n",
    "            direction[i]=(-v,v)\n",
    "        \n",
    "        \n",
    "        \n",
    "    return direction"
   ]
  },
  {
   "cell_type": "code",
   "execution_count": 46,
   "metadata": {},
   "outputs": [],
   "source": [
    "def update_particules_v3(N,position,direction):\n",
    "    \n",
    "    \n",
    "    for i in N:\n",
    "        for e in position:\n",
    "            position[e]= sum_tuple(position[e],direction[e])\n",
    "    for i in position:\n",
    "        (a,b)=position[i]              \n",
    "        if a>= 0:\n",
    "            a=0 \n",
    "            position[i]=(a,b)\n",
    "            direction[i]= mult_tuple(direction[i],(-1,1))\n",
    "        \n",
    "        if b>= 0:\n",
    "            b=0\n",
    "            position[i]=(a,b)\n",
    "            direction[i]= mult_tuple(direction[i],(1,-1))\n",
    "        \n",
    "        if a>= 1:\n",
    "            a=1 \n",
    "            position[i]=(a,b)\n",
    "            direction[i]= mult_tuple(direction[i],(1,-1))\n",
    "        \n",
    "        if b>= 1:\n",
    "            b=1\n",
    "            position[i]=(a,b)\n",
    "            direction[i]= mult_tuple(direction[i],(1,-1))\n",
    "            \n",
    "    \n",
    "             \n",
    "    return N,position, direction"
   ]
  },
  {
   "cell_type": "code",
   "execution_count": 20,
   "metadata": {},
   "outputs": [
    {
     "ename": "IndentationError",
     "evalue": "expected an indented block (<ipython-input-20-0c4c1c17a0c9>, line 6)",
     "output_type": "error",
     "traceback": [
      "\u001b[0;36m  File \u001b[0;32m\"<ipython-input-20-0c4c1c17a0c9>\"\u001b[0;36m, line \u001b[0;32m6\u001b[0m\n\u001b[0;31m    X2=[]\u001b[0m\n\u001b[0m    ^\u001b[0m\n\u001b[0;31mIndentationError\u001b[0m\u001b[0;31m:\u001b[0m expected an indented block\n"
     ]
    }
   ],
   "source": [
    "def fusion_v4(N,position,direction,typ):\n",
    "    \n",
    "    for i in N:\n",
    "        for e in position:\n",
    "            \n",
    "    X2=[]\n",
    "    Y2=[]\n",
    "    poids_particules2=copy.deepcopy(poids_particules)\n",
    "    weight_set = set([2,11,12,20,23,30,33,24,16])  # numero atomique \n",
    "    for xA,yA in zip(X,Y):\n",
    "        for xB,yB in zip(X,Y):\n",
    "            if xA != xB and yA != yB:\n",
    "                if np.around(xA,1) == np.around(xB,1) and np.around(yA,1) == np.around(yB,1):\n",
    "                    new_weight = poids_particules[(xA,yA)] + poids_particules[(xB,yB)]\n",
    "                    if new_weight in weight_set:\n",
    "                        poids_particules2[(xA,yA)] = new_weight                        \n",
    "                X2.append(xA)\n",
    "                Y2.append(yA)\n",
    "    \n",
    "    for k in poids_particules2:\n",
    "        if k[0] not in X2 and k[1] not in Y2:\n",
    "            del poids_particules2[k]\n",
    "                            \n",
    "    return X2,Y2,poids_particules2"
   ]
  },
  {
   "cell_type": "code",
   "execution_count": 53,
   "metadata": {},
   "outputs": [
    {
     "data": {
      "image/png": "[encoded data removed]",
      "text/plain": [
       "<Figure size 432x288 with 1 Axes>"
      ]
     },
     "metadata": {},
     "output_type": "display_data"
    },
    {
     "data": {
      "image/png": "[encoded data removed]",
      "text/plain": [
       "<Figure size 432x288 with 1 Axes>"
      ]
     },
     "metadata": {},
     "output_type": "display_data"
    }
   ],
   "source": [
    "t=10\n",
    "plt.figure()\n",
    "\n",
    "plt.xlim(0, 1)\n",
    "plt.ylim(0, 1)\n",
    "\n",
    "N,position,typ = random_particules_v3(10)\n",
    "\n",
    "for i in N:\n",
    "    (a,b)=position[i-1]\n",
    "    if typ[i-1]==1:\n",
    "        plt.scatter(a,b,c=\"gray\")\n",
    "    if typ[i-1]==10:\n",
    "        plt.scatter(a,b,c=\"red\")\n",
    "    if typ[i-1]==13:\n",
    "        plt.scatter(a,b,c=\"black\")\n",
    "#plt.savefig(\"0.png\")\n",
    "plt.show()\n",
    "        \n",
    "direction=direction_v3(N,position,0.05)\n",
    "\n",
    "for i in range(t):\n",
    "    N,position,direction=update_particules_v3(N,position,direction)\n",
    "        \n",
    "    for e in N:\n",
    "        \n",
    "        (a,b)=position[e-1]\n",
    "        if typ[e-1]==1:\n",
    "            plt.scatter(a,b,c=\"gray\")\n",
    "        if typ[e-1]==10:\n",
    "            plt.scatter(a,b,c=\"red\")\n",
    "        if typ[e-1]==13:\n",
    "            plt.scatter(a,b,c=\"black\")\n",
    "\n",
    "        \n",
    "        plt.xlim(0, 1)\n",
    "        plt.ylim(0, 1)\n",
    "#plt.savefig(str(i+1)+\".png\")\n",
    "plt.show()\n",
    "  "
   ]
  },
  {
   "cell_type": "code",
   "execution_count": null,
   "metadata": {},
   "outputs": [],
   "source": []
  }
 ],
 "metadata": {
  "kernelspec": {
   "display_name": "Python 3",
   "language": "python",
   "name": "python3"
  },
  "language_info": {
   "codemirror_mode": {
    "name": "ipython",
    "version": 3
   },
   "file_extension": ".py",
   "mimetype": "text/x-python",
   "name": "python",
   "nbconvert_exporter": "python",
   "pygments_lexer": "ipython3",
   "version": "3.5.3"
  }
 },
 "nbformat": 4,
 "nbformat_minor": 2
}
